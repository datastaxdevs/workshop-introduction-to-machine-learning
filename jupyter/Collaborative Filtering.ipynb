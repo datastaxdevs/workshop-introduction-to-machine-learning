{
 "cells": [
  {
   "cell_type": "markdown",
   "metadata": {},
   "source": [
    "# Demo 5: Collaborative Filtering and Comedy! \n",
    "------\n",
    "<img src=\"images/seinfeld.jpg\" width=\"400\" height=\"400\">\n",
    "\n",
    "#### Real Dataset: http://eigentaste.berkeley.edu/dataset/ Dataset 2 \n",
    "#### Rate Jokes: http://eigentaste.berkeley.edu"
   ]
  },
  {
   "cell_type": "markdown",
   "metadata": {},
   "source": [
    "## What are we trying to learn from this dataset?\n",
    "\n",
    "# QUESTION:  Can Collaborative Filtering be used to find which jokes to recommend to our users?\n"
   ]
  },
  {
   "cell_type": "code",
   "execution_count": null,
   "metadata": {},
   "outputs": [],
   "source": [
    "%matplotlib inline\n",
    "import matplotlib.pyplot as plt"
   ]
  },
  {
   "cell_type": "code",
   "execution_count": null,
   "metadata": {},
   "outputs": [],
   "source": [
    "import pandas\n",
    "import cassandra\n",
    "import pyspark\n",
    "import re\n",
    "import os\n",
    "import matplotlib.pyplot as plt\n",
    "from IPython.display import IFrame\n",
    "from IPython.display import display, Markdown\n",
    "from pyspark.sql import SparkSession\n",
    "from pyspark.ml.evaluation import RegressionEvaluator\n",
    "from pyspark.ml.recommendation import ALS\n",
    "from pyspark.sql import Row"
   ]
  },
  {
   "cell_type": "markdown",
   "metadata": {},
   "source": [
    "#### Helper function to have nicer formatting of Spark DataFrames"
   ]
  },
  {
   "cell_type": "code",
   "execution_count": null,
   "metadata": {},
   "outputs": [],
   "source": [
    "#Helper for pretty formatting for Spark DataFrames\n",
    "def showDF(df, limitRows =  10, truncate = False):\n",
    "    if(truncate):\n",
    "        pandas.set_option('display.max_colwidth', 100)\n",
    "    else:\n",
    "        pandas.set_option('display.max_colwidth', None)\n",
    "    pandas.set_option('display.max_rows', limitRows)\n",
    "    display(df.limit(limitRows).toPandas())\n",
    "    pandas.reset_option('display.max_rows')"
   ]
  },
  {
   "cell_type": "markdown",
   "metadata": {},
   "source": [
    "## Astra Credentials & Keyspace"
   ]
  },
  {
   "cell_type": "markdown",
   "metadata": {},
   "source": [
    "Put your Astra username, password, Secure Connect bundle, and keyspace that you configured when you signed up at http://astra.datastax.com into the variables below... it's that easy!"
   ]
  },
  {
   "cell_type": "code",
   "execution_count": null,
   "metadata": {},
   "outputs": [],
   "source": [
    "astraUsername      = 'username'\n",
    "astraPassword      = 'password'\n",
    "astraSecureConnect = 'file name with .zip extension'\n",
    "astraKeyspace      = 'your keyspace name'\n",
    "\n",
    "%store astraUsername astraPassword astraSecureConnect astraKeyspace"
   ]
  },
  {
   "cell_type": "markdown",
   "metadata": {},
   "source": [
    "## Creating Tables and Loading Tables"
   ]
  },
  {
   "cell_type": "markdown",
   "metadata": {},
   "source": [
    "### Connect to Cassandra"
   ]
  },
  {
   "cell_type": "code",
   "execution_count": null,
   "metadata": {},
   "outputs": [],
   "source": [
    "from cassandra.cluster import Cluster\n",
    "from cassandra.auth import PlainTextAuthProvider\n",
    "\n",
    "cloud_config = {\n",
    "    'secure_connect_bundle': '/home/jovyan/secureconnect/'+astraSecureConnect\n",
    "}\n",
    "auth_provider = PlainTextAuthProvider(username=astraUsername, password=astraPassword)\n",
    "cluster = Cluster(cloud=cloud_config, auth_provider=auth_provider)\n",
    "session = cluster.connect()"
   ]
  },
  {
   "cell_type": "markdown",
   "metadata": {},
   "source": [
    "### Set keyspace "
   ]
  },
  {
   "cell_type": "code",
   "execution_count": null,
   "metadata": {},
   "outputs": [],
   "source": [
    "session.set_keyspace(astraKeyspace)"
   ]
  },
  {
   "cell_type": "markdown",
   "metadata": {},
   "source": [
    "### Create table called jokes. Our PRIMARY will need to be a unique composite key (userid, jokeid). This will result in an even distribution of the data and allow for each row to be unique. Remember we will have to utilize that PRIMARY KEY in our WHERE clause in any of our CQL queries. "
   ]
  },
  {
   "cell_type": "code",
   "execution_count": null,
   "metadata": {},
   "outputs": [],
   "source": [
    "query = \"CREATE TABLE IF NOT EXISTS jokes \\\n",
    "                                    (userid int, jokeid int, rating float, \\\n",
    "                                     PRIMARY KEY (userid, jokeid))\"\n",
    "session.execute(query)"
   ]
  },
  {
   "cell_type": "markdown",
   "metadata": {},
   "source": [
    "### What do these of these 3 columns represent: \n",
    "\n",
    "* **Column 1**: User id\n",
    "* **Column 2**: Joke id\n",
    "* **Column 3**: Rating of joke (-10.00 - 10.00) "
   ]
  },
  {
   "cell_type": "markdown",
   "metadata": {},
   "source": [
    "### Load Jokes dataset from CSV file (jester_ratings3.csv)\n",
    "* This is a file I created from the *.dat file and I only have 10,000 rows -- dataset has over 1 million rows\n",
    "<img src=\"images/laughing.gif\" width=\"300\" height=\"300\">\n",
    "\n",
    "#### Insert all the Joke Rating Data into the table `jokes`"
   ]
  },
  {
   "cell_type": "code",
   "execution_count": null,
   "metadata": {},
   "outputs": [],
   "source": [
    "fileName = 'data/jester_ratings3.csv'\n",
    "input_file = open(fileName, 'r')\n",
    "\n",
    "for line in input_file:\n",
    "    jokeRow = line.split(',')\n",
    "    query = \"INSERT INTO jokes (userid, jokeid, rating)\"\n",
    "    \n",
    "    query = query + \"VALUES (%s, %s, %s)\"\n",
    "    \n",
    "    session.execute(query, (int(jokeRow[0]), int(jokeRow[1]) , float(jokeRow[2]) ))"
   ]
  },
  {
   "cell_type": "markdown",
   "metadata": {},
   "source": [
    "#### Do a select * on joke_table WHERE userid = x to verify that data was loaded into the table"
   ]
  },
  {
   "cell_type": "code",
   "execution_count": null,
   "metadata": {
    "scrolled": true
   },
   "outputs": [],
   "source": [
    "query = 'SELECT * FROM jokes WHERE userid = 65'\n",
    "rows = session.execute(query)\n",
    "for row in rows:\n",
    "    print (row.userid, row.jokeid, row.rating)"
   ]
  },
  {
   "cell_type": "markdown",
   "metadata": {},
   "source": [
    "<img src=\"images/sparklogo.png\" width=\"150\" height=\"200\">"
   ]
  },
  {
   "cell_type": "markdown",
   "metadata": {},
   "source": [
    "### Finally time for Apache Spark! "
   ]
  },
  {
   "cell_type": "markdown",
   "metadata": {},
   "source": [
    "#### Create a spark session that is connected to Cassandra. From there load each table into a Spark Dataframe and take a count of the number of rows in each."
   ]
  },
  {
   "cell_type": "code",
   "execution_count": null,
   "metadata": {},
   "outputs": [],
   "source": [
    "spark = SparkSession \\\n",
    "    .builder \\\n",
    "    .appName('demo') \\\n",
    "    .master(\"local\") \\\n",
    "    .config( \\\n",
    "        \"spark.cassandra.connection.config.cloud.path\", \\\n",
    "        \"file:/home/jovyan/secureconnect/\"+astraSecureConnect) \\\n",
    "    .config(\"spark.cassandra.auth.username\", astraUsername) \\\n",
    "    .config(\"spark.cassandra.auth.password\", astraPassword) \\\n",
    "    .getOrCreate()\n",
    "\n",
    "jokeTable = spark.read.format(\"org.apache.spark.sql.cassandra\").options(table=\"jokes\", keyspace=astraKeyspace).load()\n",
    "\n",
    "print (\"Table Row Count: \")\n",
    "print (jokeTable.count())"
   ]
  },
  {
   "cell_type": "markdown",
   "metadata": {},
   "source": [
    "#### Split dataset into training and testing set "
   ]
  },
  {
   "cell_type": "code",
   "execution_count": null,
   "metadata": {},
   "outputs": [],
   "source": [
    "(training, test) = jokeTable.randomSplit([0.8, 0.2])\n",
    "\n",
    "training_df = training.withColumn(\"rating\", training.rating.cast('int'))\n",
    "testing_df = test.withColumn(\"rating\", test.rating.cast('int'))\n",
    "\n",
    "showDF(training_df)"
   ]
  },
  {
   "cell_type": "markdown",
   "metadata": {},
   "source": [
    "### Setup for CFliter with ALS\n",
    "\n",
    "https://spark.apache.org/docs/latest/ml-collaborative-filtering.html"
   ]
  },
  {
   "cell_type": "code",
   "execution_count": null,
   "metadata": {},
   "outputs": [],
   "source": [
    "als = ALS(maxIter=5, regParam=0.01, userCol=\"userid\", itemCol=\"jokeid\", ratingCol=\"rating\",\n",
    "          coldStartStrategy=\"drop\")\n",
    "\n",
    "model = als.fit(training_df)"
   ]
  },
  {
   "cell_type": "code",
   "execution_count": null,
   "metadata": {},
   "outputs": [],
   "source": [
    "# Evaluate the model by computing the RMSE on the test data\n",
    "predictions = model.transform(testing_df)\n",
    "\n",
    "# Generate top 10 joke recommendations for each user\n",
    "userRecs = model.recommendForAllUsers(10)\n",
    "\n",
    "showDF(userRecs)\n",
    "\n",
    "# Generate top 10 user recommendations for each joke\n",
    "jokeRecs = model.recommendForAllItems(10)"
   ]
  },
  {
   "cell_type": "code",
   "execution_count": null,
   "metadata": {},
   "outputs": [],
   "source": [
    "showDF(userRecs.filter(userRecs.userid == 65))"
   ]
  },
  {
   "cell_type": "code",
   "execution_count": null,
   "metadata": {},
   "outputs": [],
   "source": [
    "IFrame(src='images/init94.html', width=700, height=200)"
   ]
  },
  {
   "cell_type": "code",
   "execution_count": null,
   "metadata": {},
   "outputs": [],
   "source": [
    "IFrame(src='images/init43.html', width=700, height=200)"
   ]
  },
  {
   "cell_type": "code",
   "execution_count": null,
   "metadata": {},
   "outputs": [],
   "source": [
    "spark.stop()"
   ]
  }
 ],
 "metadata": {
  "kernelspec": {
   "display_name": "Python 3",
   "language": "python",
   "name": "python3"
  },
  "language_info": {
   "codemirror_mode": {
    "name": "ipython",
    "version": 3
   },
   "file_extension": ".py",
   "mimetype": "text/x-python",
   "name": "python",
   "nbconvert_exporter": "python",
   "pygments_lexer": "ipython3",
   "version": "3.7.6"
  }
 },
 "nbformat": 4,
 "nbformat_minor": 2
}
